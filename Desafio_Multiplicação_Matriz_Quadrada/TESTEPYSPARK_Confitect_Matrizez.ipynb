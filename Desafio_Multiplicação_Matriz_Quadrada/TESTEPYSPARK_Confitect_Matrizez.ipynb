{
  "nbformat": 4,
  "nbformat_minor": 0,
  "metadata": {
    "colab": {
      "provenance": [],
      "authorship_tag": "ABX9TyO5w0gJuTTbzeg/BC0EjemQ",
      "include_colab_link": true
    },
    "kernelspec": {
      "name": "python3",
      "display_name": "Python 3"
    },
    "language_info": {
      "name": "python"
    }
  },
  "cells": [
    {
      "cell_type": "markdown",
      "metadata": {
        "id": "view-in-github",
        "colab_type": "text"
      },
      "source": [
        "<a href=\"https://colab.research.google.com/github/Denise-Pro/Case_DataEngineer_Confitec/blob/main/Desafio_Multiplica%C3%A7%C3%A3o_Matriz_Quadrada/TESTEPYSPARK_Confitect_Matrizez.ipynb\" target=\"_parent\"><img src=\"https://colab.research.google.com/assets/colab-badge.svg\" alt=\"Open In Colab\"/></a>"
      ]
    },
    {
      "cell_type": "markdown",
      "source": [
        "## Intalando a Biblioteca principal, caso ela já não esteja disponível no ambiente"
      ],
      "metadata": {
        "id": "E8EUZ01DRGDj"
      }
    },
    {
      "cell_type": "code",
      "execution_count": 1,
      "metadata": {
        "colab": {
          "base_uri": "https://localhost:8080/"
        },
        "id": "dGwPwjLbvNQK",
        "outputId": "6010eb42-4338-492e-aad5-0ec319d44c09"
      },
      "outputs": [
        {
          "output_type": "stream",
          "name": "stdout",
          "text": [
            "Looking in indexes: https://pypi.org/simple, https://us-python.pkg.dev/colab-wheels/public/simple/\n",
            "Requirement already satisfied: numpy in /usr/local/lib/python3.8/dist-packages (1.21.6)\n"
          ]
        }
      ],
      "source": [
        "!pip install numpy"
      ]
    },
    {
      "cell_type": "markdown",
      "source": [
        "## Importando apenas as funções que serão necessárias"
      ],
      "metadata": {
        "id": "UHWP-MP6RcK5"
      }
    },
    {
      "cell_type": "code",
      "source": [
        "from numpy import random, dot, array, reshape\n",
        "from math import sqrt"
      ],
      "metadata": {
        "id": "_fpke3gfAihA"
      },
      "execution_count": 1,
      "outputs": []
    },
    {
      "cell_type": "markdown",
      "source": [
        "## Esta primeira função está programada para fazer o produto de Matriz Quadrada entre Matrizes Idênticas, que foram geradas através de números aleatórios\n",
        "\n",
        "É necessário passar para ela, em sua chamada, o número mínimo e máximo do intervalo de onde serão gerados os números aleatórios, bem como o tamanho que se espera dessas Matrizes.\n"
      ],
      "metadata": {
        "id": "IqmtsNiqRsJk"
      }
    },
    {
      "cell_type": "code",
      "source": [
        "def multiplica_matrizes_iguais(de, ate, n):\n",
        "  if isinstance(de, int) and isinstance(ate, int) and isinstance(n, int) and de>=0 and ate > de and n>=0:\n",
        "    x = random.randint(de,ate, (n,n))\n",
        "    a = x\n",
        "    b = x\n",
        "    produto = dot(x,x)\n",
        "    print('\\n A e B são matrizes {}x{}'.format(n,n))\n",
        "    print('A=\\n{}\\n'.format(a))\n",
        "    print('B=\\n{}\\n'.format(b))\n",
        "    print('Product=\\n{}'.format(produto))\n",
        "    return '\\n Produto Matriz Quadrada, entre matrizes idênticas, Realizado com Sucesso'\n",
        "  else:\n",
        "    return \"\\n Apenas Números Inteiros e positivos serão aceitos\""
      ],
      "metadata": {
        "id": "M603hn4KfvQO"
      },
      "execution_count": 2,
      "outputs": []
    },
    {
      "cell_type": "markdown",
      "source": [
        "## Já esta segunda função calcula o Produto de Matriz Quadrada entre Matrizes diferentes, que também foram geradas a partir de números aleatórios\n",
        "\n",
        "Também é necessário passar para ela, em sua chamada, o número mínimo e máximo do intervalo de onde serão gerados os números aleatórios, bem como o número de colunas da primeira Matriz e de linhas da segunda.\n",
        "Lembrando que o produto de Matriz Quadrada só é possível quando o número de colunas da primeira Matriz é igual ao número de linhas da segunda."
      ],
      "metadata": {
        "id": "utYt6PVhSK9G"
      }
    },
    {
      "cell_type": "code",
      "source": [
        "def multiplica_matrizes_diferentes(de, ate, n):\n",
        "  if isinstance(de, int) and isinstance(ate, int) and isinstance(n, int) and de>=0 and ate > de and n>=0:\n",
        "    if n == 0:\n",
        "      n = n+1\n",
        "    if de > n:\n",
        "      i = de\n",
        "      de = n\n",
        "      n = i\n",
        "    m1 = random.randint(de,n) \n",
        "    m2 = random.randint(de,n)\n",
        "    print('\\nA é uma matriz {}x{}'.format(m1,n))\n",
        "    print('\\nB é uma matriz {}x{}\\n'.format(n,m2))\n",
        "    a = random.randint(de,ate, (m1,n))\n",
        "    b = random.randint(de,ate, (n,m2))\n",
        "    produto = dot(a,b)\n",
        "    print('A=\\n{}\\n'.format(a))\n",
        "    print('B=\\n{}\\n'.format(b))\n",
        "    print('Product=\\n{}'.format(produto))\n",
        "    return '\\n Produto Matriz Quadrada, entre matrizes diferentes, Realizado com Sucesso'\n",
        "  else:\n",
        "    return \"\\n O segundo número precisa ser maior do que o primeiro e apenas números inteiros e positivos serão aceitos\""
      ],
      "metadata": {
        "id": "xeMWEdVAGgst"
      },
      "execution_count": 3,
      "outputs": []
    },
    {
      "cell_type": "markdown",
      "source": [
        "## Já esta terceira função tem por objetivo chamar uma das duas outras funções caso o usuário queira trabalhar com valores aleatórios ou, também, fornecer o cálculo entre matrizes idênticas em que o próprio usuário pode colocar os elementos que deseja usar no produto."
      ],
      "metadata": {
        "id": "bgSj2BTJUBYl"
      }
    },
    {
      "cell_type": "code",
      "source": [
        "def calcula_matriz_quadrada():\n",
        "\n",
        "  print(\"Você gostaria de fazer esse cálculo para matrizes iguais ou diferentes?\\n\")\n",
        "  tipoMatriz = int(input('Digite 1 para Matrizes idênticas e 2 para Matrizes Diferentes: '))\n",
        "\n",
        "  if tipoMatriz == 1:\n",
        "    print('\\nVocê gostaria de passar os elementos da Matriz para o cálculo?\\n')\n",
        "    tipoCalculo = int(input('Digite 1 para passar um intervalo com cada um dos elementos e 2 para que sejam elementos aleatórios: '))\n",
        "    if tipoCalculo == 2:\n",
        "      de = int(input('\\n Digite o limite mínimo do intervalo: '))\n",
        "      ate = int(input('\\n Digite o limite máximo do intervalo: '))\n",
        "      n = int(input('\\n Digite o número de linhas e colunas, um único número: '))\n",
        "      return multiplica_matrizes_iguais(de, ate, n)\n",
        "    elif tipoCalculo == 1:\n",
        "      sequencia = array(list(map(int, input(\"\\n Digite os elementos numéricos e separados por vírgula: \").split(\",\"))))\n",
        "      size = sqrt(len(sequencia))\n",
        "      try:\n",
        "        matriz = sequencia.reshape(int(size), int(size))\n",
        "        print('A=\\n{}\\n'.format(matriz))\n",
        "        print('B=\\n{}\\n'.format(matriz))\n",
        "        print('Product=')\n",
        "        return dot(matriz,matriz)\n",
        "      except ValueError:\n",
        "        return \"\\n O Número de elementos não é suficiente para o cálculo de matriz quadrada\"\n",
        "  if tipoMatriz == 2:\n",
        "    de = int(input('\\nDigite o limite mínimo do intervalo: '))\n",
        "    ate = int(input('\\nDigite o limite máximo do intervalo: '))\n",
        "    n = int(input('\\nDigite o número de colunas de A e linhas de B, um único número: '))\n",
        "    return multiplica_matrizes_diferentes(de, ate, n)"
      ],
      "metadata": {
        "id": "_OLHFdDoWV0S"
      },
      "execution_count": 4,
      "outputs": []
    },
    {
      "cell_type": "code",
      "source": [
        "calcula_matriz_quadrada()"
      ],
      "metadata": {
        "colab": {
          "base_uri": "https://localhost:8080/"
        },
        "id": "GlK-RuT9FKWn",
        "outputId": "701e2e42-02e6-4f89-86a8-c7aa593784ea"
      },
      "execution_count": 5,
      "outputs": [
        {
          "output_type": "stream",
          "name": "stdout",
          "text": [
            "Você gostaria de fazer esse cálculo para matrizes iguais ou diferentes?\n",
            "\n",
            "Digite 1 para Matrizes idênticas e 2 para Matrizes Diferentes: 1\n",
            "\n",
            "Você gostaria de passar os elementos da Matriz para o cálculo?\n",
            "\n",
            "Digite 1 para passar um intervalo com cada um dos elementos e 2 para que sejam elementos aleatórios: 1\n",
            "\n",
            " Digite os elementos numéricos e separados por vírgula: 1,2,3,4,5,6,7,8,1,2,3,4,5,6,7,8\n",
            "A=\n",
            "[[1 2 3 4]\n",
            " [5 6 7 8]\n",
            " [1 2 3 4]\n",
            " [5 6 7 8]]\n",
            "\n",
            "B=\n",
            "[[1 2 3 4]\n",
            " [5 6 7 8]\n",
            " [1 2 3 4]\n",
            " [5 6 7 8]]\n",
            "\n",
            "Product=\n"
          ]
        },
        {
          "output_type": "execute_result",
          "data": {
            "text/plain": [
              "array([[ 34,  44,  54,  64],\n",
              "       [ 82, 108, 134, 160],\n",
              "       [ 34,  44,  54,  64],\n",
              "       [ 82, 108, 134, 160]])"
            ]
          },
          "metadata": {},
          "execution_count": 5
        }
      ]
    },
    {
      "cell_type": "code",
      "source": [
        "calcula_matriz_quadrada()"
      ],
      "metadata": {
        "colab": {
          "base_uri": "https://localhost:8080/",
          "height": 959
        },
        "id": "S9Rt7Y_mLXut",
        "outputId": "8bb76930-62e5-43e8-9c43-2958e4620474"
      },
      "execution_count": 6,
      "outputs": [
        {
          "output_type": "stream",
          "name": "stdout",
          "text": [
            "Você gostaria de fazer esse cálculo para matrizes iguais ou diferentes?\n",
            "\n",
            "Digite 1 para Matrizes idênticas e 2 para Matrizes Diferentes: 1\n",
            "\n",
            "Você gostaria de passar os elementos da Matriz para o cálculo?\n",
            "\n",
            "Digite 1 para passar um intervalo com cada um dos elementos e 2 para que sejam elementos aleatórios: 2\n",
            "\n",
            " Digite o limite mínimo do intervalo: 0\n",
            "\n",
            " Digite o limite máximo do intervalo: 100\n",
            "\n",
            " Digite o número de linhas e colunas, um único número: 10\n",
            "\n",
            " A e B são matrizes 10x10\n",
            "A=\n",
            "[[ 1  4 49 53 89 48 69 10 16 83]\n",
            " [31 23 43 76 78  7 43 49 74  5]\n",
            " [10 92  2 12 19 86 75 76 31 39]\n",
            " [82  2 48 52 90 24 24 24 56 13]\n",
            " [76  6 20 47 37 80 88 50 26 57]\n",
            " [53 70 89 94 59 31 28 95 66 14]\n",
            " [20 84 57 87 30 39  8 52 55 60]\n",
            " [80 43 77 38 55  3 21  7 55 45]\n",
            " [38 65 24 51 48 84 50  6 48 39]\n",
            " [13 48 50 13 52 86  2 63 30 73]]\n",
            "\n",
            "B=\n",
            "[[ 1  4 49 53 89 48 69 10 16 83]\n",
            " [31 23 43 76 78  7 43 49 74  5]\n",
            " [10 92  2 12 19 86 75 76 31 39]\n",
            " [82  2 48 52 90 24 24 24 56 13]\n",
            " [76  6 20 47 37 80 88 50 26 57]\n",
            " [53 70 89 94 59 31 28 95 66 14]\n",
            " [20 84 57 87 30 39  8 52 55 60]\n",
            " [80 43 77 38 55  3 21  7 55 45]\n",
            " [38 65 24 51 48 84 50  6 48 39]\n",
            " [13 48 50 13 52 86  2 63 30 73]]\n",
            "\n",
            "Product=\n",
            "[[18136 19854 18152 20674 19931 25373 16092 23195 17884 19721]\n",
            " [21362 16488 16675 21625 23306 22098 20320 14432 19039 17933]\n",
            " [19133 21953 25881 28648 24907 14881 12988 21243 24835 15787]\n",
            " [17697 14426 15842 20289 23196 24100 22706 15165 15502 20483]\n",
            " [18857 22166 26478 28050 27533 22646 16794 21825 21702 23663]\n",
            " [27798 24121 25431 29366 34301 26750 27205 22274 27984 22790]\n",
            " [21865 19703 21733 23985 29516 22395 19113 20831 24269 17035]\n",
            " [13293 16809 14420 18758 23564 25498 22135 17012 16135 20534]\n",
            " [18386 19575 22003 27579 26392 21365 18021 22380 22364 16979]\n",
            " [18746 20445 21454 21188 22780 21463 16992 22688 20271 17060]]\n"
          ]
        },
        {
          "output_type": "execute_result",
          "data": {
            "text/plain": [
              "'\\n Produto Matriz Quadrada, entre matrizes idênticas, Realizado com Sucesso'"
            ],
            "application/vnd.google.colaboratory.intrinsic+json": {
              "type": "string"
            }
          },
          "metadata": {},
          "execution_count": 6
        }
      ]
    },
    {
      "cell_type": "code",
      "source": [
        "calcula_matriz_quadrada()"
      ],
      "metadata": {
        "colab": {
          "base_uri": "https://localhost:8080/",
          "height": 553
        },
        "id": "u8yymEXGMuTu",
        "outputId": "3b17b95e-f66d-4b36-8c7a-fd4db48ef008"
      },
      "execution_count": 7,
      "outputs": [
        {
          "output_type": "stream",
          "name": "stdout",
          "text": [
            "Você gostaria de fazer esse cálculo para matrizes iguais ou diferentes?\n",
            "\n",
            "Digite 1 para Matrizes idênticas e 2 para Matrizes Diferentes: 2\n",
            "\n",
            "Digite o limite mínimo do intervalo: 0\n",
            "\n",
            "Digite o limite máximo do intervalo: 103\n",
            "\n",
            "Digite o número de colunas de A e linhas de B, um único número: 5\n",
            "\n",
            "A é uma matriz 2x5\n",
            "\n",
            "B é uma matriz 5x4\n",
            "\n",
            "A=\n",
            "[[12 14 68 54 98]\n",
            " [31 50 67 22 84]]\n",
            "\n",
            "B=\n",
            "[[ 24   1  11  34]\n",
            " [ 13  74  71  49]\n",
            " [ 17  19  28 100]\n",
            " [ 13  78  50  59]\n",
            " [ 15  44  47  22]]\n",
            "\n",
            "Product=\n",
            "[[ 3798 10864 10336 13236]\n",
            " [ 4079 10416 10815 13350]]\n"
          ]
        },
        {
          "output_type": "execute_result",
          "data": {
            "text/plain": [
              "'\\n Produto Matriz Quadrada, entre matrizes diferentes, Realizado com Sucesso'"
            ],
            "application/vnd.google.colaboratory.intrinsic+json": {
              "type": "string"
            }
          },
          "metadata": {},
          "execution_count": 7
        }
      ]
    },
    {
      "cell_type": "code",
      "source": [
        "# def multiplica_matrizes_identicas(*elements):\n",
        "#     size = sqrt(len(elements))\n",
        "#     if size.is_integer():\n",
        "#       matriz = array(elements).reshape(int(size), int(size))\n",
        "#       # matriz = elements.reshape(int(size), int(size))\n",
        "#       print('A=\\n{}\\n'.format(matriz))\n",
        "#       print('B=\\n{}\\n'.format(matriz))\n",
        "#       print('Product=')\n",
        "#       return dot(matriz,matriz)\n",
        "#     else:\n",
        "#       raise RuntimeError(\"Número de elementos não é suficiente para o cálculo de matriz quadrada\")"
      ],
      "metadata": {
        "id": "CBFDm2_AjsMu"
      },
      "execution_count": 141,
      "outputs": []
    }
  ]
}